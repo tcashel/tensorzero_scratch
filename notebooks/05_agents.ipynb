{
 "cells": [
  {
   "cell_type": "markdown",
   "metadata": {},
   "source": [
    "# 05. Agent Integration with LangGraph\n",
    "\n",
    "This notebook demonstrates how to integrate TensorZero with LangGraph agents:\n",
    "- Using TensorZero's OpenAI-compatible endpoint with LangChain\n",
    "- Creating a ReAct agent with tools  \n",
    "- Observing agent interactions in TensorZero UI\n",
    "- Collecting feedback on agent performance\n",
    "\n",
    "**Key Learning**: TensorZero provides an OpenAI-compatible API endpoint at `/openai/v1`, making it easy to use with any OpenAI-compatible client!"
   ]
  },
  {
   "cell_type": "code",
   "execution_count": 12,
   "metadata": {},
   "outputs": [
    {
     "name": "stdout",
     "output_type": "stream",
     "text": [
      "✅ TensorZero Chat Model initialized\n",
      "🔧 Using OpenAI-compatible endpoint: http://localhost:3000/openai/v1\n",
      "🏷️  Function: agent_chat, Variant: gpt4_mini\n"
     ]
    },
    {
     "data": {
      "text/html": [
       "<pre style=\"white-space:pre;overflow-x:auto;line-height:normal;font-family:Menlo,'DejaVu Sans Mono',consolas,'Courier New',monospace\"><span style=\"color: #000080; text-decoration-color: #000080\">╭──────────────────────────────────────────── 🤖 TensorZero Response ─────────────────────────────────────────────╮</span>\n",
       "<span style=\"color: #000080; text-decoration-color: #000080\">│</span> Hello! I'm an AI language model developed by OpenAI. I'm here to assist you with a wide range of topics,        <span style=\"color: #000080; text-decoration-color: #000080\">│</span>\n",
       "<span style=\"color: #000080; text-decoration-color: #000080\">│</span> including answering questions, providing information, and helping with writing and problem-solving. If there's  <span style=\"color: #000080; text-decoration-color: #000080\">│</span>\n",
       "<span style=\"color: #000080; text-decoration-color: #000080\">│</span> anything specific you'd like to know or discuss, feel free to ask!                                              <span style=\"color: #000080; text-decoration-color: #000080\">│</span>\n",
       "<span style=\"color: #000080; text-decoration-color: #000080\">╰─────────────────────────────────────────────────────────────────────────────────────────────────────────────────╯</span>\n",
       "</pre>\n"
      ],
      "text/plain": [
       "\u001b[34m╭─\u001b[0m\u001b[34m───────────────────────────────────────────\u001b[0m\u001b[34m 🤖 TensorZero Response \u001b[0m\u001b[34m────────────────────────────────────────────\u001b[0m\u001b[34m─╮\u001b[0m\n",
       "\u001b[34m│\u001b[0m Hello! I'm an AI language model developed by OpenAI. I'm here to assist you with a wide range of topics,        \u001b[34m│\u001b[0m\n",
       "\u001b[34m│\u001b[0m including answering questions, providing information, and helping with writing and problem-solving. If there's  \u001b[34m│\u001b[0m\n",
       "\u001b[34m│\u001b[0m anything specific you'd like to know or discuss, feel free to ask!                                              \u001b[34m│\u001b[0m\n",
       "\u001b[34m╰─────────────────────────────────────────────────────────────────────────────────────────────────────────────────╯\u001b[0m\n"
      ]
     },
     "metadata": {},
     "output_type": "display_data"
    }
   ],
   "source": [
    "# Setup: Use TensorZero's OpenAI-Compatible Endpoint\n",
    "import httpx\n",
    "from langchain.chat_models import init_chat_model\n",
    "from langchain_core.tools import tool\n",
    "from langgraph.prebuilt import create_react_agent\n",
    "from rich.console import Console\n",
    "from rich.panel import Panel\n",
    "\n",
    "console = Console()\n",
    "\n",
    "# Initialize TensorZero chat model using OpenAI-compatible endpoint\n",
    "# This is much simpler than a custom chat model!\n",
    "llm = init_chat_model(\n",
    "    \"tensorzero::model_name::openai::gpt-4o-mini\",  # Use our agent_chat function through TensorZero\n",
    "    model_provider=\"openai\",\n",
    "    base_url=\"http://localhost:3000/openai/v1\",  # TensorZero's OpenAI-compatible endpoint\n",
    "    api_key=\"dummy\",  # TensorZero ignores the API key\n",
    "    http_client=httpx.Client()\n",
    ")\n",
    "\n",
    "print(\"✅ TensorZero Chat Model initialized\")\n",
    "print(\"🔧 Using OpenAI-compatible endpoint: http://localhost:3000/openai/v1\")\n",
    "print(\"🏷️  Function: agent_chat, Variant: gpt4_mini\")\n",
    "\n",
    "# Test basic chat\n",
    "try:\n",
    "    test_response = llm.invoke(\"Hello! Can you introduce yourself?\")\n",
    "    console.print(Panel(test_response.content, title=\"🤖 TensorZero Response\", border_style=\"blue\"))\n",
    "except Exception as e:\n",
    "    print(f\"❌ Connection test failed: {e}\")\n",
    "    print(\"💡 Make sure TensorZero services are running with 'poe up'\")"
   ]
  },
  {
   "cell_type": "markdown",
   "metadata": {},
   "source": [
    "## 1. Define Tools for the Agent\n",
    "\n",
    "Let's create some Python tools that our agent can use. These complement the TensorZero-configured tools."
   ]
  },
  {
   "cell_type": "code",
   "execution_count": 13,
   "metadata": {},
   "outputs": [
    {
     "name": "stdout",
     "output_type": "stream",
     "text": [
      "🔧 Python Tools Created:\n",
      "  • python_calculator: Evaluate mathematical expressions using Python's built-in calculator\n",
      "  • current_time: Get the current time in a specified timezone\n",
      "  • text_analyzer: Analyze text properties including word count and basic sentiment\n"
     ]
    },
    {
     "data": {
      "text/html": [
       "<pre style=\"white-space:pre;overflow-x:auto;line-height:normal;font-family:Menlo,'DejaVu Sans Mono',consolas,'Courier New',monospace\"><span style=\"color: #008000; text-decoration-color: #008000\">╭───────────────────────────────────────────────── 🧪 Tool Test ──────────────────────────────────────────────────╮</span>\n",
       "<span style=\"color: #008000; text-decoration-color: #008000\">│</span> Python Calculator: sqrt(144) + 5 = 17.0                                                                         <span style=\"color: #008000; text-decoration-color: #008000\">│</span>\n",
       "<span style=\"color: #008000; text-decoration-color: #008000\">╰─────────────────────────────────────────────────────────────────────────────────────────────────────────────────╯</span>\n",
       "</pre>\n"
      ],
      "text/plain": [
       "\u001b[32m╭─\u001b[0m\u001b[32m────────────────────────────────────────────────\u001b[0m\u001b[32m 🧪 Tool Test \u001b[0m\u001b[32m─────────────────────────────────────────────────\u001b[0m\u001b[32m─╮\u001b[0m\n",
       "\u001b[32m│\u001b[0m Python Calculator: sqrt(144) + 5 = 17.0                                                                         \u001b[32m│\u001b[0m\n",
       "\u001b[32m╰─────────────────────────────────────────────────────────────────────────────────────────────────────────────────╯\u001b[0m\n"
      ]
     },
     "metadata": {},
     "output_type": "display_data"
    }
   ],
   "source": [
    "# Define Python-based tools for our agent\n",
    "@tool\n",
    "def python_calculator(expression: str) -> str:\n",
    "    \"\"\"\n",
    "    Evaluate mathematical expressions using Python's built-in calculator.\n",
    "    \n",
    "    Args:\n",
    "        expression: A mathematical expression like '2 + 2' or 'sqrt(16)'\n",
    "    \"\"\"\n",
    "    try:\n",
    "        import math\n",
    "        # Safe evaluation with math functions\n",
    "        allowed_names = {\n",
    "            \"sqrt\": math.sqrt, \"sin\": math.sin, \"cos\": math.cos, \"tan\": math.tan,\n",
    "            \"log\": math.log, \"exp\": math.exp, \"pi\": math.pi, \"e\": math.e,\n",
    "            \"abs\": abs, \"pow\": pow, \"min\": min, \"max\": max\n",
    "        }\n",
    "        \n",
    "        result = eval(expression, {\"__builtins__\": {}}, allowed_names)\n",
    "        return f\"Python Calculator: {expression} = {result}\"\n",
    "    except Exception as e:\n",
    "        return f\"Calculator Error: {str(e)}\"\n",
    "\n",
    "@tool\n",
    "def current_time(timezone: str = \"UTC\") -> str:\n",
    "    \"\"\"\n",
    "    Get the current time in a specified timezone.\n",
    "    \n",
    "    Args:\n",
    "        timezone: The timezone (UTC, EST, PST, etc.)\n",
    "    \"\"\"\n",
    "    try:\n",
    "        from datetime import datetime\n",
    "        import pytz\n",
    "        \n",
    "        utc_now = datetime.now(pytz.UTC)\n",
    "        timezone_map = {\n",
    "            \"UTC\": \"UTC\", \"EST\": \"US/Eastern\", \"PST\": \"US/Pacific\",\n",
    "            \"CST\": \"US/Central\", \"MST\": \"US/Mountain\"\n",
    "        }\n",
    "        \n",
    "        tz_name = timezone_map.get(timezone.upper(), timezone)\n",
    "        tz = pytz.timezone(tz_name)\n",
    "        local_time = utc_now.astimezone(tz)\n",
    "        return f\"Current time in {timezone}: {local_time.strftime('%Y-%m-%d %H:%M:%S %Z')}\"\n",
    "    except Exception as e:\n",
    "        return f\"Time Error: {str(e)}\"\n",
    "\n",
    "@tool\n",
    "def text_analyzer(text: str) -> str:\n",
    "    \"\"\"\n",
    "    Analyze text properties including word count and basic sentiment.\n",
    "    \n",
    "    Args:\n",
    "        text: The text to analyze\n",
    "    \"\"\"\n",
    "    try:\n",
    "        words = text.split()\n",
    "        word_count = len(words)\n",
    "        char_count = len(text)\n",
    "        \n",
    "        # Simple sentiment analysis\n",
    "        positive_words = [\"good\", \"great\", \"excellent\", \"awesome\", \"fantastic\", \"wonderful\"]\n",
    "        negative_words = [\"bad\", \"terrible\", \"awful\", \"horrible\", \"worst\", \"hate\"]\n",
    "        \n",
    "        positive_count = sum(1 for word in words if word.lower() in positive_words)\n",
    "        negative_count = sum(1 for word in words if word.lower() in negative_words)\n",
    "        \n",
    "        sentiment = \"neutral\"\n",
    "        if positive_count > negative_count:\n",
    "            sentiment = \"positive\"\n",
    "        elif negative_count > positive_count:\n",
    "            sentiment = \"negative\"\n",
    "        \n",
    "        return f\"\"\"Text Analysis:\n",
    "- Words: {word_count}\n",
    "- Characters: {char_count}  \n",
    "- Sentiment: {sentiment}\n",
    "- Positive indicators: {positive_count}\n",
    "- Negative indicators: {negative_count}\"\"\"\n",
    "        \n",
    "    except Exception as e:\n",
    "        return f\"Analysis Error: {str(e)}\"\n",
    "\n",
    "# List of tools for our agent\n",
    "tools = [python_calculator, current_time, text_analyzer]\n",
    "\n",
    "print(\"🔧 Python Tools Created:\")\n",
    "for tool_func in tools:\n",
    "    print(f\"  • {tool_func.name}: {tool_func.description.split('.')[0]}\")\n",
    "    \n",
    "# Test a tool\n",
    "test_result = python_calculator.invoke({\"expression\": \"sqrt(144) + 5\"})\n",
    "console.print(Panel(test_result, title=\"🧪 Tool Test\", border_style=\"green\"))"
   ]
  },
  {
   "cell_type": "markdown",
   "metadata": {},
   "source": [
    "## 2. Create the LangGraph Agent\n",
    "\n",
    "Now we'll create a ReAct agent using LangGraph that uses TensorZero as the backend."
   ]
  },
  {
   "cell_type": "code",
   "execution_count": 15,
   "metadata": {},
   "outputs": [
    {
     "name": "stdout",
     "output_type": "stream",
     "text": [
      "✅ ReAct Agent created successfully!\n",
      "🤖 Backend: TensorZero Gateway\n",
      "🔧 Tools: Python tools + TensorZero configured tools\n",
      "⚡ Ready for tool calling and reasoning!\n"
     ]
    }
   ],
   "source": [
    "# Create a ReAct agent using TensorZero + LangGraph\n",
    "try:\n",
    "    # Create the agent - LangGraph handles all the ReAct logic!\n",
    "    agent = create_react_agent(\n",
    "        llm,  # Our TensorZero chat model\n",
    "        tools,  # Our Python tools\n",
    "        prompt=\"\"\"You are a helpful assistant powered by TensorZero. \n",
    "\n",
    "Available tools:\n",
    "- python_calculator: Advanced mathematical calculations with math functions\n",
    "- current_time: Get current time in different timezones  \n",
    "- text_analyzer: Analyze text properties and sentiment\n",
    "\n",
    "Important: TensorZero may also provide additional tools like calculator, get_weather, and search_tensorzero_docs through its configuration. Use the most appropriate tool for each task.\"\"\"\n",
    "    )\n",
    "    \n",
    "    print(\"✅ ReAct Agent created successfully!\")\n",
    "    print(\"🤖 Backend: TensorZero Gateway\")\n",
    "    print(\"🔧 Tools: Python tools + TensorZero configured tools\")\n",
    "    print(\"⚡ Ready for tool calling and reasoning!\")\n",
    "    \n",
    "except Exception as e:\n",
    "    print(f\"❌ Agent creation failed: {e}\")\n",
    "    import traceback\n",
    "    traceback.print_exc()"
   ]
  },
  {
   "cell_type": "markdown",
   "metadata": {},
   "source": [
    "## 3. Test the Agent\n",
    "\n",
    "Let's test our agent with various tasks that require tool usage."
   ]
  },
  {
   "cell_type": "code",
   "execution_count": 16,
   "metadata": {},
   "outputs": [
    {
     "name": "stdout",
     "output_type": "stream",
     "text": [
      "🧮 Test 1: Mathematical Calculation\n"
     ]
    },
    {
     "data": {
      "text/html": [
       "<pre style=\"white-space:pre;overflow-x:auto;line-height:normal;font-family:Menlo,'DejaVu Sans Mono',consolas,'Courier New',monospace\">\n",
       "<span style=\"color: #000080; text-decoration-color: #000080; font-weight: bold\">🔵 User:</span> What is <span style=\"color: #008080; text-decoration-color: #008080; font-weight: bold\">234</span> multiplied by <span style=\"color: #008080; text-decoration-color: #008080; font-weight: bold\">567</span>? Please calculate this for me.\n",
       "</pre>\n"
      ],
      "text/plain": [
       "\n",
       "\u001b[1;34m🔵 User:\u001b[0m What is \u001b[1;36m234\u001b[0m multiplied by \u001b[1;36m567\u001b[0m? Please calculate this for me.\n"
      ]
     },
     "metadata": {},
     "output_type": "display_data"
    },
    {
     "data": {
      "text/html": [
       "<pre style=\"white-space:pre;overflow-x:auto;line-height:normal;font-family:Menlo,'DejaVu Sans Mono',consolas,'Courier New',monospace\"><span style=\"color: #7f7f7f; text-decoration-color: #7f7f7f\">============================================================</span>\n",
       "</pre>\n"
      ],
      "text/plain": [
       "\u001b[2m============================================================\u001b[0m\n"
      ]
     },
     "metadata": {},
     "output_type": "display_data"
    },
    {
     "data": {
      "text/html": [
       "<pre style=\"white-space:pre;overflow-x:auto;line-height:normal;font-family:Menlo,'DejaVu Sans Mono',consolas,'Courier New',monospace\"><span style=\"color: #008000; text-decoration-color: #008000\">👤 Human:</span> What is <span style=\"color: #008080; text-decoration-color: #008080; font-weight: bold\">234</span> multiplied by <span style=\"color: #008080; text-decoration-color: #008080; font-weight: bold\">567</span>? Please calculate this for me.\n",
       "</pre>\n"
      ],
      "text/plain": [
       "\u001b[32m👤 Human:\u001b[0m What is \u001b[1;36m234\u001b[0m multiplied by \u001b[1;36m567\u001b[0m? Please calculate this for me.\n"
      ]
     },
     "metadata": {},
     "output_type": "display_data"
    },
    {
     "data": {
      "text/html": [
       "<pre style=\"white-space:pre;overflow-x:auto;line-height:normal;font-family:Menlo,'DejaVu Sans Mono',consolas,'Courier New',monospace\"><span style=\"color: #808000; text-decoration-color: #808000\">⚙️  Tool Result:</span> Python Calculator: <span style=\"color: #008080; text-decoration-color: #008080; font-weight: bold\">234</span> * <span style=\"color: #008080; text-decoration-color: #008080; font-weight: bold\">567</span> = <span style=\"color: #008080; text-decoration-color: #008080; font-weight: bold\">132678</span>\n",
       "</pre>\n"
      ],
      "text/plain": [
       "\u001b[33m⚙️  Tool Result:\u001b[0m Python Calculator: \u001b[1;36m234\u001b[0m * \u001b[1;36m567\u001b[0m = \u001b[1;36m132678\u001b[0m\n"
      ]
     },
     "metadata": {},
     "output_type": "display_data"
    },
    {
     "data": {
      "text/html": [
       "<pre style=\"white-space:pre;overflow-x:auto;line-height:normal;font-family:Menlo,'DejaVu Sans Mono',consolas,'Courier New',monospace\"><span style=\"color: #000080; text-decoration-color: #000080\">🤖 Agent:</span> The result of <span style=\"color: #008080; text-decoration-color: #008080; font-weight: bold\">234</span> multiplied by <span style=\"color: #008080; text-decoration-color: #008080; font-weight: bold\">567</span> is <span style=\"color: #008080; text-decoration-color: #008080; font-weight: bold\">132</span>,<span style=\"color: #008080; text-decoration-color: #008080; font-weight: bold\">678</span>.\n",
       "</pre>\n"
      ],
      "text/plain": [
       "\u001b[34m🤖 Agent:\u001b[0m The result of \u001b[1;36m234\u001b[0m multiplied by \u001b[1;36m567\u001b[0m is \u001b[1;36m132\u001b[0m,\u001b[1;36m678\u001b[0m.\n"
      ]
     },
     "metadata": {},
     "output_type": "display_data"
    },
    {
     "name": "stdout",
     "output_type": "stream",
     "text": [
      "\n",
      "🕐 Test 2: Time Query\n"
     ]
    },
    {
     "data": {
      "text/html": [
       "<pre style=\"white-space:pre;overflow-x:auto;line-height:normal;font-family:Menlo,'DejaVu Sans Mono',consolas,'Courier New',monospace\">\n",
       "<span style=\"color: #000080; text-decoration-color: #000080; font-weight: bold\">🔵 User:</span> What time is it in Tokyo right now?\n",
       "</pre>\n"
      ],
      "text/plain": [
       "\n",
       "\u001b[1;34m🔵 User:\u001b[0m What time is it in Tokyo right now?\n"
      ]
     },
     "metadata": {},
     "output_type": "display_data"
    },
    {
     "data": {
      "text/html": [
       "<pre style=\"white-space:pre;overflow-x:auto;line-height:normal;font-family:Menlo,'DejaVu Sans Mono',consolas,'Courier New',monospace\"><span style=\"color: #7f7f7f; text-decoration-color: #7f7f7f\">============================================================</span>\n",
       "</pre>\n"
      ],
      "text/plain": [
       "\u001b[2m============================================================\u001b[0m\n"
      ]
     },
     "metadata": {},
     "output_type": "display_data"
    },
    {
     "data": {
      "text/html": [
       "<pre style=\"white-space:pre;overflow-x:auto;line-height:normal;font-family:Menlo,'DejaVu Sans Mono',consolas,'Courier New',monospace\"><span style=\"color: #008000; text-decoration-color: #008000\">👤 Human:</span> What time is it in Tokyo right now?\n",
       "</pre>\n"
      ],
      "text/plain": [
       "\u001b[32m👤 Human:\u001b[0m What time is it in Tokyo right now?\n"
      ]
     },
     "metadata": {},
     "output_type": "display_data"
    },
    {
     "data": {
      "text/html": [
       "<pre style=\"white-space:pre;overflow-x:auto;line-height:normal;font-family:Menlo,'DejaVu Sans Mono',consolas,'Courier New',monospace\"><span style=\"color: #808000; text-decoration-color: #808000\">⚙️  Tool Result:</span> Current time in Asia/Tokyo: <span style=\"color: #008080; text-decoration-color: #008080; font-weight: bold\">2025</span>-<span style=\"color: #008080; text-decoration-color: #008080; font-weight: bold\">08</span>-<span style=\"color: #008080; text-decoration-color: #008080; font-weight: bold\">29</span> <span style=\"color: #00ff00; text-decoration-color: #00ff00; font-weight: bold\">12:37:38</span> JST\n",
       "</pre>\n"
      ],
      "text/plain": [
       "\u001b[33m⚙️  Tool Result:\u001b[0m Current time in Asia/Tokyo: \u001b[1;36m2025\u001b[0m-\u001b[1;36m08\u001b[0m-\u001b[1;36m29\u001b[0m \u001b[1;92m12:37:38\u001b[0m JST\n"
      ]
     },
     "metadata": {},
     "output_type": "display_data"
    },
    {
     "data": {
      "text/html": [
       "<pre style=\"white-space:pre;overflow-x:auto;line-height:normal;font-family:Menlo,'DejaVu Sans Mono',consolas,'Courier New',monospace\"><span style=\"color: #000080; text-decoration-color: #000080\">🤖 Agent:</span> The current time in Tokyo is <span style=\"color: #00ff00; text-decoration-color: #00ff00; font-weight: bold\">12:37</span> PM JST on August <span style=\"color: #008080; text-decoration-color: #008080; font-weight: bold\">29</span>, <span style=\"color: #008080; text-decoration-color: #008080; font-weight: bold\">2025</span>.\n",
       "</pre>\n"
      ],
      "text/plain": [
       "\u001b[34m🤖 Agent:\u001b[0m The current time in Tokyo is \u001b[1;92m12:37\u001b[0m PM JST on August \u001b[1;36m29\u001b[0m, \u001b[1;36m2025\u001b[0m.\n"
      ]
     },
     "metadata": {},
     "output_type": "display_data"
    },
    {
     "name": "stdout",
     "output_type": "stream",
     "text": [
      "\n",
      "📊 Test 3: Text Analysis\n"
     ]
    },
    {
     "data": {
      "text/html": [
       "<pre style=\"white-space:pre;overflow-x:auto;line-height:normal;font-family:Menlo,'DejaVu Sans Mono',consolas,'Courier New',monospace\">\n",
       "<span style=\"color: #000080; text-decoration-color: #000080; font-weight: bold\">🔵 User:</span> Can you analyze this text: <span style=\"color: #008000; text-decoration-color: #008000\">'This is an amazing product, I love it!'</span>\n",
       "</pre>\n"
      ],
      "text/plain": [
       "\n",
       "\u001b[1;34m🔵 User:\u001b[0m Can you analyze this text: \u001b[32m'This is an amazing product, I love it!'\u001b[0m\n"
      ]
     },
     "metadata": {},
     "output_type": "display_data"
    },
    {
     "data": {
      "text/html": [
       "<pre style=\"white-space:pre;overflow-x:auto;line-height:normal;font-family:Menlo,'DejaVu Sans Mono',consolas,'Courier New',monospace\"><span style=\"color: #7f7f7f; text-decoration-color: #7f7f7f\">============================================================</span>\n",
       "</pre>\n"
      ],
      "text/plain": [
       "\u001b[2m============================================================\u001b[0m\n"
      ]
     },
     "metadata": {},
     "output_type": "display_data"
    },
    {
     "data": {
      "text/html": [
       "<pre style=\"white-space:pre;overflow-x:auto;line-height:normal;font-family:Menlo,'DejaVu Sans Mono',consolas,'Courier New',monospace\"><span style=\"color: #008000; text-decoration-color: #008000\">👤 Human:</span> Can you analyze this text: <span style=\"color: #008000; text-decoration-color: #008000\">'This is an amazing product, I love it!'</span>\n",
       "</pre>\n"
      ],
      "text/plain": [
       "\u001b[32m👤 Human:\u001b[0m Can you analyze this text: \u001b[32m'This is an amazing product, I love it!'\u001b[0m\n"
      ]
     },
     "metadata": {},
     "output_type": "display_data"
    },
    {
     "data": {
      "text/html": [
       "<pre style=\"white-space:pre;overflow-x:auto;line-height:normal;font-family:Menlo,'DejaVu Sans Mono',consolas,'Courier New',monospace\"><span style=\"color: #808000; text-decoration-color: #808000\">⚙️  Tool Result:</span> Text Analysis:\n",
       "- Words: <span style=\"color: #008080; text-decoration-color: #008080; font-weight: bold\">8</span>\n",
       "- Characters: <span style=\"color: #008080; text-decoration-color: #008080; font-weight: bold\">38</span>  \n",
       "- Sentiment: neutral\n",
       "- Positive indicators: <span style=\"color: #008080; text-decoration-color: #008080; font-weight: bold\">0</span>\n",
       "- Negative indicators: <span style=\"color: #008080; text-decoration-color: #008080; font-weight: bold\">0</span>\n",
       "</pre>\n"
      ],
      "text/plain": [
       "\u001b[33m⚙️  Tool Result:\u001b[0m Text Analysis:\n",
       "- Words: \u001b[1;36m8\u001b[0m\n",
       "- Characters: \u001b[1;36m38\u001b[0m  \n",
       "- Sentiment: neutral\n",
       "- Positive indicators: \u001b[1;36m0\u001b[0m\n",
       "- Negative indicators: \u001b[1;36m0\u001b[0m\n"
      ]
     },
     "metadata": {},
     "output_type": "display_data"
    },
    {
     "data": {
      "text/html": [
       "<pre style=\"white-space:pre;overflow-x:auto;line-height:normal;font-family:Menlo,'DejaVu Sans Mono',consolas,'Courier New',monospace\"><span style=\"color: #000080; text-decoration-color: #000080\">🤖 Agent:</span> Here is the analysis of the text <span style=\"color: #008000; text-decoration-color: #008000\">\"This is an amazing product, I love it!\"</span>:\n",
       "\n",
       "- **Words**: <span style=\"color: #008080; text-decoration-color: #008080; font-weight: bold\">8</span>\n",
       "- **Characters**: <span style=\"color: #008080; text-decoration-color: #008080; font-weight: bold\">38</span>\n",
       "- **Sentiment**: Neutral\n",
       "- **Positive indicators**: <span style=\"color: #008080; text-decoration-color: #008080; font-weight: bold\">0</span>\n",
       "- **Negative indicators**: <span style=\"color: #008080; text-decoration-color: #008080; font-weight: bold\">0</span>\n",
       "\n",
       "The sentiment analysis suggests that while the phrase expresses a positive opinion, it is categorized as neutral \n",
       "due to the lack of strong positive or negative indicators.\n",
       "</pre>\n"
      ],
      "text/plain": [
       "\u001b[34m🤖 Agent:\u001b[0m Here is the analysis of the text \u001b[32m\"This is an amazing product, I love it!\"\u001b[0m:\n",
       "\n",
       "- **Words**: \u001b[1;36m8\u001b[0m\n",
       "- **Characters**: \u001b[1;36m38\u001b[0m\n",
       "- **Sentiment**: Neutral\n",
       "- **Positive indicators**: \u001b[1;36m0\u001b[0m\n",
       "- **Negative indicators**: \u001b[1;36m0\u001b[0m\n",
       "\n",
       "The sentiment analysis suggests that while the phrase expresses a positive opinion, it is categorized as neutral \n",
       "due to the lack of strong positive or negative indicators.\n"
      ]
     },
     "metadata": {},
     "output_type": "display_data"
    },
    {
     "name": "stdout",
     "output_type": "stream",
     "text": [
      "\n",
      "🔄 Test 4: Multi-Step Task\n"
     ]
    },
    {
     "data": {
      "text/html": [
       "<pre style=\"white-space:pre;overflow-x:auto;line-height:normal;font-family:Menlo,'DejaVu Sans Mono',consolas,'Courier New',monospace\">\n",
       "<span style=\"color: #000080; text-decoration-color: #000080; font-weight: bold\">🔵 User:</span> Calculate the square root of <span style=\"color: #008080; text-decoration-color: #008080; font-weight: bold\">144</span>, then tell me what time it is in EST.\n",
       "</pre>\n"
      ],
      "text/plain": [
       "\n",
       "\u001b[1;34m🔵 User:\u001b[0m Calculate the square root of \u001b[1;36m144\u001b[0m, then tell me what time it is in EST.\n"
      ]
     },
     "metadata": {},
     "output_type": "display_data"
    },
    {
     "data": {
      "text/html": [
       "<pre style=\"white-space:pre;overflow-x:auto;line-height:normal;font-family:Menlo,'DejaVu Sans Mono',consolas,'Courier New',monospace\"><span style=\"color: #7f7f7f; text-decoration-color: #7f7f7f\">============================================================</span>\n",
       "</pre>\n"
      ],
      "text/plain": [
       "\u001b[2m============================================================\u001b[0m\n"
      ]
     },
     "metadata": {},
     "output_type": "display_data"
    },
    {
     "data": {
      "text/html": [
       "<pre style=\"white-space:pre;overflow-x:auto;line-height:normal;font-family:Menlo,'DejaVu Sans Mono',consolas,'Courier New',monospace\"><span style=\"color: #008000; text-decoration-color: #008000\">👤 Human:</span> Calculate the square root of <span style=\"color: #008080; text-decoration-color: #008080; font-weight: bold\">144</span>, then tell me what time it is in EST.\n",
       "</pre>\n"
      ],
      "text/plain": [
       "\u001b[32m👤 Human:\u001b[0m Calculate the square root of \u001b[1;36m144\u001b[0m, then tell me what time it is in EST.\n"
      ]
     },
     "metadata": {},
     "output_type": "display_data"
    },
    {
     "data": {
      "text/html": [
       "<pre style=\"white-space:pre;overflow-x:auto;line-height:normal;font-family:Menlo,'DejaVu Sans Mono',consolas,'Courier New',monospace\"><span style=\"color: #808000; text-decoration-color: #808000\">⚙️  Tool Result:</span> Python Calculator: <span style=\"color: #800080; text-decoration-color: #800080; font-weight: bold\">sqrt</span><span style=\"font-weight: bold\">(</span><span style=\"color: #008080; text-decoration-color: #008080; font-weight: bold\">144</span><span style=\"font-weight: bold\">)</span> = <span style=\"color: #008080; text-decoration-color: #008080; font-weight: bold\">12.0</span>\n",
       "</pre>\n"
      ],
      "text/plain": [
       "\u001b[33m⚙️  Tool Result:\u001b[0m Python Calculator: \u001b[1;35msqrt\u001b[0m\u001b[1m(\u001b[0m\u001b[1;36m144\u001b[0m\u001b[1m)\u001b[0m = \u001b[1;36m12.0\u001b[0m\n"
      ]
     },
     "metadata": {},
     "output_type": "display_data"
    },
    {
     "data": {
      "text/html": [
       "<pre style=\"white-space:pre;overflow-x:auto;line-height:normal;font-family:Menlo,'DejaVu Sans Mono',consolas,'Courier New',monospace\"><span style=\"color: #808000; text-decoration-color: #808000\">⚙️  Tool Result:</span> Current time in EST: <span style=\"color: #008080; text-decoration-color: #008080; font-weight: bold\">2025</span>-<span style=\"color: #008080; text-decoration-color: #008080; font-weight: bold\">08</span>-<span style=\"color: #008080; text-decoration-color: #008080; font-weight: bold\">28</span> <span style=\"color: #00ff00; text-decoration-color: #00ff00; font-weight: bold\">23:37:46</span> EDT\n",
       "</pre>\n"
      ],
      "text/plain": [
       "\u001b[33m⚙️  Tool Result:\u001b[0m Current time in EST: \u001b[1;36m2025\u001b[0m-\u001b[1;36m08\u001b[0m-\u001b[1;36m28\u001b[0m \u001b[1;92m23:37:46\u001b[0m EDT\n"
      ]
     },
     "metadata": {},
     "output_type": "display_data"
    },
    {
     "data": {
      "text/html": [
       "<pre style=\"white-space:pre;overflow-x:auto;line-height:normal;font-family:Menlo,'DejaVu Sans Mono',consolas,'Courier New',monospace\"><span style=\"color: #000080; text-decoration-color: #000080\">🤖 Agent:</span> The square root of <span style=\"color: #008080; text-decoration-color: #008080; font-weight: bold\">144</span> is **<span style=\"color: #008080; text-decoration-color: #008080; font-weight: bold\">12.0</span>**. \n",
       "\n",
       "The current time in EST is **<span style=\"color: #00ff00; text-decoration-color: #00ff00; font-weight: bold\">11:37:46</span> PM** on August <span style=\"color: #008080; text-decoration-color: #008080; font-weight: bold\">28</span>, <span style=\"color: #008080; text-decoration-color: #008080; font-weight: bold\">2025</span>.\n",
       "</pre>\n"
      ],
      "text/plain": [
       "\u001b[34m🤖 Agent:\u001b[0m The square root of \u001b[1;36m144\u001b[0m is **\u001b[1;36m12.0\u001b[0m**. \n",
       "\n",
       "The current time in EST is **\u001b[1;92m11:37:46\u001b[0m PM** on August \u001b[1;36m28\u001b[0m, \u001b[1;36m2025\u001b[0m.\n"
      ]
     },
     "metadata": {},
     "output_type": "display_data"
    }
   ],
   "source": [
    "# Test function to run agent and display results nicely\n",
    "def test_agent(query: str, max_iterations: int = 10):\n",
    "    \"\"\"Run the agent with a query and display results.\"\"\"\n",
    "    console.print(f\"\\n[bold blue]🔵 User:[/bold blue] {query}\")\n",
    "    console.print(\"[dim]\" + \"=\"*60 + \"[/dim]\")\n",
    "    \n",
    "    try:\n",
    "        # Run the agent\n",
    "        messages = [{\"role\": \"user\", \"content\": query}]\n",
    "        result = agent.invoke({\"messages\": messages})\n",
    "        \n",
    "        if result and \"messages\" in result:\n",
    "            for i, message in enumerate(result[\"messages\"]):\n",
    "                if hasattr(message, 'content') and message.content:\n",
    "                    # Determine message type\n",
    "                    if hasattr(message, 'type'):\n",
    "                        msg_type = message.type\n",
    "                    else:\n",
    "                        msg_type = type(message).__name__.lower().replace('message', '')\n",
    "                    \n",
    "                    if msg_type == 'human':\n",
    "                        console.print(f\"[green]👤 Human:[/green] {message.content}\")\n",
    "                    elif msg_type == 'ai':\n",
    "                        console.print(f\"[blue]🤖 Agent:[/blue] {message.content}\")\n",
    "                        \n",
    "                        # Check for tool calls\n",
    "                        if hasattr(message, 'tool_calls') and message.tool_calls:\n",
    "                            console.print(\"[cyan]🔧 Tool Calls:[/cyan]\")\n",
    "                            for tool_call in message.tool_calls:\n",
    "                                console.print(f\"  • {tool_call['name']}: {tool_call['args']}\")\n",
    "                    elif msg_type == 'tool':\n",
    "                        console.print(f\"[yellow]⚙️  Tool Result:[/yellow] {message.content}\")\n",
    "        else:\n",
    "            console.print(\"[red]❌ No response received[/red]\")\n",
    "        \n",
    "        return result\n",
    "        \n",
    "    except Exception as e:\n",
    "        console.print(f\"[bold red]❌ Error:[/bold red] {e}\")\n",
    "        import traceback\n",
    "        traceback.print_exc()\n",
    "        return None\n",
    "\n",
    "# Test 1: Math calculation\n",
    "print(\"🧮 Test 1: Mathematical Calculation\")\n",
    "result1 = test_agent(\"What is 234 multiplied by 567? Please calculate this for me.\")\n",
    "\n",
    "# Test 2: Time query  \n",
    "print(\"\\n🕐 Test 2: Time Query\")\n",
    "result2 = test_agent(\"What time is it in Tokyo right now?\")\n",
    "\n",
    "# Test 3: Text analysis\n",
    "print(\"\\n📊 Test 3: Text Analysis\") \n",
    "result3 = test_agent(\"Can you analyze this text: 'This is an amazing product, I love it!'\")\n",
    "\n",
    "# Test 4: Multi-step task\n",
    "print(\"\\n🔄 Test 4: Multi-Step Task\")\n",
    "result4 = test_agent(\"Calculate the square root of 144, then tell me what time it is in EST.\")"
   ]
  },
  {
   "cell_type": "markdown",
   "metadata": {},
   "source": [
    "## 4. Agent Observability with TensorZero\n",
    "\n",
    "All agent interactions are automatically tracked by TensorZero. Let's explore the observability features."
   ]
  },
  {
   "cell_type": "code",
   "execution_count": 17,
   "metadata": {},
   "outputs": [
    {
     "name": "stdout",
     "output_type": "stream",
     "text": [
      "📊 Agent Observability Features\n",
      "========================================\n",
      "✅ Feedback simulated: Math calculation test\n",
      "   Rating: 0.95/1.0\n",
      "   Helpful: True\n",
      "   Comment: Agent correctly used tools for mathematical calculations\n",
      "   Status: Would be submitted to TensorZero\n",
      "✅ Feedback simulated: Time query test\n",
      "   Rating: 0.9/1.0\n",
      "   Helpful: True\n",
      "   Comment: Provided accurate time information for requested timezone\n",
      "   Status: Would be submitted to TensorZero\n",
      "✅ Feedback simulated: Text analysis test\n",
      "   Rating: 0.85/1.0\n",
      "   Helpful: True\n",
      "   Comment: Good text analysis with sentiment and basic statistics\n",
      "   Status: Would be submitted to TensorZero\n",
      "✅ Feedback simulated: Multi-step task test\n",
      "   Rating: 0.92/1.0\n",
      "   Helpful: True\n",
      "   Comment: Successfully handled multiple tool calls in sequence\n",
      "   Status: Would be submitted to TensorZero\n",
      "\n",
      "🌐 TensorZero UI: http://localhost:4000\n",
      "📈 In the TensorZero UI you can:\n",
      "   • View all agent conversations and tool calls\n",
      "   • Monitor performance metrics and costs\n",
      "   • Analyze tool usage patterns\n",
      "   • A/B test different agent configurations\n",
      "   • Set up alerts for performance issues\n",
      "\n",
      "🔍 Key Benefits of TensorZero for Agents:\n",
      "   ✅ Automatic observability - no custom logging needed\n",
      "   ✅ Multi-provider support - easy to switch models\n",
      "   ✅ Built-in experimentation - A/B testing made simple\n",
      "   ✅ Cost tracking - monitor LLM usage costs\n",
      "   ✅ Tool call tracing - see exactly how agents use tools\n"
     ]
    }
   ],
   "source": [
    "# Simulate collecting feedback on agent performance\n",
    "from tensorzero import TensorZeroGateway\n",
    "\n",
    "# We need TensorZero client for feedback collection\n",
    "tz_client = TensorZeroGateway.build_http(gateway_url=\"http://localhost:3000\")\n",
    "\n",
    "print(\"📊 Agent Observability Features\")\n",
    "print(\"=\" * 40)\n",
    "\n",
    "# In a real application, you would collect these inference IDs from the agent responses\n",
    "# For this demo, we'll simulate the feedback collection process\n",
    "\n",
    "def collect_agent_feedback(description: str, rating: float, helpful: bool, comment: str):\n",
    "    \"\"\"Simulate feedback collection.\"\"\"\n",
    "    try:\n",
    "        # In a real scenario, you'd link this to actual inference IDs\n",
    "        # For demo purposes, we'll just show the feedback collection process\n",
    "        \n",
    "        print(f\"✅ Feedback simulated: {description}\")\n",
    "        print(f\"   Rating: {rating}/1.0\")\n",
    "        print(f\"   Helpful: {helpful}\")\n",
    "        print(f\"   Comment: {comment}\")\n",
    "        print(f\"   Status: Would be submitted to TensorZero\")\n",
    "        \n",
    "    except Exception as e:\n",
    "        print(f\"❌ Feedback collection failed: {e}\")\n",
    "\n",
    "# Simulate feedback for our test cases\n",
    "feedback_examples = [\n",
    "    {\n",
    "        \"description\": \"Math calculation test\",\n",
    "        \"rating\": 0.95,\n",
    "        \"helpful\": True,\n",
    "        \"comment\": \"Agent correctly used tools for mathematical calculations\"\n",
    "    },\n",
    "    {\n",
    "        \"description\": \"Time query test\", \n",
    "        \"rating\": 0.9,\n",
    "        \"helpful\": True,\n",
    "        \"comment\": \"Provided accurate time information for requested timezone\"\n",
    "    },\n",
    "    {\n",
    "        \"description\": \"Text analysis test\",\n",
    "        \"rating\": 0.85,\n",
    "        \"helpful\": True,\n",
    "        \"comment\": \"Good text analysis with sentiment and basic statistics\"\n",
    "    },\n",
    "    {\n",
    "        \"description\": \"Multi-step task test\",\n",
    "        \"rating\": 0.92,\n",
    "        \"helpful\": True,\n",
    "        \"comment\": \"Successfully handled multiple tool calls in sequence\"\n",
    "    }\n",
    "]\n",
    "\n",
    "for feedback in feedback_examples:\n",
    "    collect_agent_feedback(**feedback)\n",
    "\n",
    "print(f\"\\n🌐 TensorZero UI: http://localhost:4000\")\n",
    "print(\"📈 In the TensorZero UI you can:\")\n",
    "print(\"   • View all agent conversations and tool calls\")\n",
    "print(\"   • Monitor performance metrics and costs\")\n",
    "print(\"   • Analyze tool usage patterns\")\n",
    "print(\"   • A/B test different agent configurations\")\n",
    "print(\"   • Set up alerts for performance issues\")\n",
    "\n",
    "print(f\"\\n🔍 Key Benefits of TensorZero for Agents:\")\n",
    "print(\"   ✅ Automatic observability - no custom logging needed\")\n",
    "print(\"   ✅ Multi-provider support - easy to switch models\")\n",
    "print(\"   ✅ Built-in experimentation - A/B testing made simple\")\n",
    "print(\"   ✅ Cost tracking - monitor LLM usage costs\")\n",
    "print(\"   ✅ Tool call tracing - see exactly how agents use tools\")"
   ]
  },
  {
   "cell_type": "markdown",
   "metadata": {},
   "source": [
    "## 5. Performance Analysis\n",
    "\n",
    "Let's create a simple performance analysis of our agent."
   ]
  },
  {
   "cell_type": "code",
   "execution_count": 18,
   "metadata": {},
   "outputs": [
    {
     "data": {
      "text/html": [
       "<pre style=\"white-space:pre;overflow-x:auto;line-height:normal;font-family:Menlo,'DejaVu Sans Mono',consolas,'Courier New',monospace\">🏃 <span style=\"font-weight: bold\">Running Agent Benchmark</span> <span style=\"font-weight: bold\">(</span><span style=\"color: #008080; text-decoration-color: #008080; font-weight: bold\">5</span> test cases<span style=\"font-weight: bold\">)</span>\n",
       "</pre>\n"
      ],
      "text/plain": [
       "🏃 \u001b[1mRunning Agent Benchmark\u001b[0m \u001b[1m(\u001b[0m\u001b[1;36m5\u001b[0m test cases\u001b[1m)\u001b[0m\n"
      ]
     },
     "metadata": {},
     "output_type": "display_data"
    },
    {
     "data": {
      "text/html": [
       "<pre style=\"white-space:pre;overflow-x:auto;line-height:normal;font-family:Menlo,'DejaVu Sans Mono',consolas,'Courier New',monospace\">==================================================\n",
       "</pre>\n"
      ],
      "text/plain": [
       "==================================================\n"
      ]
     },
     "metadata": {},
     "output_type": "display_data"
    },
    {
     "data": {
      "text/html": [
       "<pre style=\"white-space:pre;overflow-x:auto;line-height:normal;font-family:Menlo,'DejaVu Sans Mono',consolas,'Courier New',monospace\">\n",
       "🧪 <span style=\"color: #008080; text-decoration-color: #008080\">Test </span><span style=\"color: #008080; text-decoration-color: #008080; font-weight: bold\">1</span><span style=\"color: #008080; text-decoration-color: #008080\">/</span><span style=\"color: #008080; text-decoration-color: #008080; font-weight: bold\">5</span><span style=\"color: #008080; text-decoration-color: #008080\">: Math</span>\n",
       "</pre>\n"
      ],
      "text/plain": [
       "\n",
       "🧪 \u001b[36mTest \u001b[0m\u001b[1;36m1\u001b[0m\u001b[36m/\u001b[0m\u001b[1;36m5\u001b[0m\u001b[36m: Math\u001b[0m\n"
      ]
     },
     "metadata": {},
     "output_type": "display_data"
    },
    {
     "data": {
      "text/html": [
       "<pre style=\"white-space:pre;overflow-x:auto;line-height:normal;font-family:Menlo,'DejaVu Sans Mono',consolas,'Courier New',monospace\">Query: What is the square root of <span style=\"color: #008080; text-decoration-color: #008080; font-weight: bold\">256</span>?<span style=\"color: #808000; text-decoration-color: #808000\">...</span>\n",
       "</pre>\n"
      ],
      "text/plain": [
       "Query: What is the square root of \u001b[1;36m256\u001b[0m?\u001b[33m...\u001b[0m\n"
      ]
     },
     "metadata": {},
     "output_type": "display_data"
    },
    {
     "data": {
      "text/html": [
       "<pre style=\"white-space:pre;overflow-x:auto;line-height:normal;font-family:Menlo,'DejaVu Sans Mono',consolas,'Courier New',monospace\">✅ <span style=\"color: #008000; text-decoration-color: #008000\">Success:</span> <span style=\"color: #008080; text-decoration-color: #008080; font-weight: bold\">1.</span>87s, <span style=\"color: #008080; text-decoration-color: #008080; font-weight: bold\">1</span> tools, <span style=\"color: #008080; text-decoration-color: #008080; font-weight: bold\">95</span> chars\n",
       "</pre>\n"
      ],
      "text/plain": [
       "✅ \u001b[32mSuccess:\u001b[0m \u001b[1;36m1.\u001b[0m87s, \u001b[1;36m1\u001b[0m tools, \u001b[1;36m95\u001b[0m chars\n"
      ]
     },
     "metadata": {},
     "output_type": "display_data"
    },
    {
     "data": {
      "text/html": [
       "<pre style=\"white-space:pre;overflow-x:auto;line-height:normal;font-family:Menlo,'DejaVu Sans Mono',consolas,'Courier New',monospace\">\n",
       "🧪 <span style=\"color: #008080; text-decoration-color: #008080\">Test </span><span style=\"color: #008080; text-decoration-color: #008080; font-weight: bold\">2</span><span style=\"color: #008080; text-decoration-color: #008080\">/</span><span style=\"color: #008080; text-decoration-color: #008080; font-weight: bold\">5</span><span style=\"color: #008080; text-decoration-color: #008080\">: Time</span>\n",
       "</pre>\n"
      ],
      "text/plain": [
       "\n",
       "🧪 \u001b[36mTest \u001b[0m\u001b[1;36m2\u001b[0m\u001b[36m/\u001b[0m\u001b[1;36m5\u001b[0m\u001b[36m: Time\u001b[0m\n"
      ]
     },
     "metadata": {},
     "output_type": "display_data"
    },
    {
     "data": {
      "text/html": [
       "<pre style=\"white-space:pre;overflow-x:auto;line-height:normal;font-family:Menlo,'DejaVu Sans Mono',consolas,'Courier New',monospace\">Query: What time is it in PST?<span style=\"color: #808000; text-decoration-color: #808000\">...</span>\n",
       "</pre>\n"
      ],
      "text/plain": [
       "Query: What time is it in PST?\u001b[33m...\u001b[0m\n"
      ]
     },
     "metadata": {},
     "output_type": "display_data"
    },
    {
     "data": {
      "text/html": [
       "<pre style=\"white-space:pre;overflow-x:auto;line-height:normal;font-family:Menlo,'DejaVu Sans Mono',consolas,'Courier New',monospace\">✅ <span style=\"color: #008000; text-decoration-color: #008000\">Success:</span> <span style=\"color: #008080; text-decoration-color: #008080; font-weight: bold\">2.</span>04s, <span style=\"color: #008080; text-decoration-color: #008080; font-weight: bold\">1</span> tools, <span style=\"color: #008080; text-decoration-color: #008080; font-weight: bold\">121</span> chars\n",
       "</pre>\n"
      ],
      "text/plain": [
       "✅ \u001b[32mSuccess:\u001b[0m \u001b[1;36m2.\u001b[0m04s, \u001b[1;36m1\u001b[0m tools, \u001b[1;36m121\u001b[0m chars\n"
      ]
     },
     "metadata": {},
     "output_type": "display_data"
    },
    {
     "data": {
      "text/html": [
       "<pre style=\"white-space:pre;overflow-x:auto;line-height:normal;font-family:Menlo,'DejaVu Sans Mono',consolas,'Courier New',monospace\">\n",
       "🧪 <span style=\"color: #008080; text-decoration-color: #008080\">Test </span><span style=\"color: #008080; text-decoration-color: #008080; font-weight: bold\">3</span><span style=\"color: #008080; text-decoration-color: #008080\">/</span><span style=\"color: #008080; text-decoration-color: #008080; font-weight: bold\">5</span><span style=\"color: #008080; text-decoration-color: #008080\">: Analysis</span>\n",
       "</pre>\n"
      ],
      "text/plain": [
       "\n",
       "🧪 \u001b[36mTest \u001b[0m\u001b[1;36m3\u001b[0m\u001b[36m/\u001b[0m\u001b[1;36m5\u001b[0m\u001b[36m: Analysis\u001b[0m\n"
      ]
     },
     "metadata": {},
     "output_type": "display_data"
    },
    {
     "data": {
      "text/html": [
       "<pre style=\"white-space:pre;overflow-x:auto;line-height:normal;font-family:Menlo,'DejaVu Sans Mono',consolas,'Courier New',monospace\">Query: Analyze this text: 'The weather is absolutely wonderful toda<span style=\"color: #808000; text-decoration-color: #808000\">...</span>\n",
       "</pre>\n"
      ],
      "text/plain": [
       "Query: Analyze this text: 'The weather is absolutely wonderful toda\u001b[33m...\u001b[0m\n"
      ]
     },
     "metadata": {},
     "output_type": "display_data"
    },
    {
     "data": {
      "text/html": [
       "<pre style=\"white-space:pre;overflow-x:auto;line-height:normal;font-family:Menlo,'DejaVu Sans Mono',consolas,'Courier New',monospace\">✅ <span style=\"color: #008000; text-decoration-color: #008000\">Success:</span> <span style=\"color: #008080; text-decoration-color: #008080; font-weight: bold\">2.</span>26s, <span style=\"color: #008080; text-decoration-color: #008080; font-weight: bold\">1</span> tools, <span style=\"color: #008080; text-decoration-color: #008080; font-weight: bold\">436</span> chars\n",
       "</pre>\n"
      ],
      "text/plain": [
       "✅ \u001b[32mSuccess:\u001b[0m \u001b[1;36m2.\u001b[0m26s, \u001b[1;36m1\u001b[0m tools, \u001b[1;36m436\u001b[0m chars\n"
      ]
     },
     "metadata": {},
     "output_type": "display_data"
    },
    {
     "data": {
      "text/html": [
       "<pre style=\"white-space:pre;overflow-x:auto;line-height:normal;font-family:Menlo,'DejaVu Sans Mono',consolas,'Courier New',monospace\">\n",
       "🧪 <span style=\"color: #008080; text-decoration-color: #008080\">Test </span><span style=\"color: #008080; text-decoration-color: #008080; font-weight: bold\">4</span><span style=\"color: #008080; text-decoration-color: #008080\">/</span><span style=\"color: #008080; text-decoration-color: #008080; font-weight: bold\">5</span><span style=\"color: #008080; text-decoration-color: #008080\">: Multi-step</span>\n",
       "</pre>\n"
      ],
      "text/plain": [
       "\n",
       "🧪 \u001b[36mTest \u001b[0m\u001b[1;36m4\u001b[0m\u001b[36m/\u001b[0m\u001b[1;36m5\u001b[0m\u001b[36m: Multi-step\u001b[0m\n"
      ]
     },
     "metadata": {},
     "output_type": "display_data"
    },
    {
     "data": {
      "text/html": [
       "<pre style=\"white-space:pre;overflow-x:auto;line-height:normal;font-family:Menlo,'DejaVu Sans Mono',consolas,'Courier New',monospace\">Query: Calculate <span style=\"color: #008080; text-decoration-color: #008080; font-weight: bold\">15</span> * <span style=\"color: #008080; text-decoration-color: #008080; font-weight: bold\">23</span>, then analyze the sentiment of 'great resu<span style=\"color: #808000; text-decoration-color: #808000\">...</span>\n",
       "</pre>\n"
      ],
      "text/plain": [
       "Query: Calculate \u001b[1;36m15\u001b[0m * \u001b[1;36m23\u001b[0m, then analyze the sentiment of 'great resu\u001b[33m...\u001b[0m\n"
      ]
     },
     "metadata": {},
     "output_type": "display_data"
    },
    {
     "data": {
      "text/html": [
       "<pre style=\"white-space:pre;overflow-x:auto;line-height:normal;font-family:Menlo,'DejaVu Sans Mono',consolas,'Courier New',monospace\">✅ <span style=\"color: #008000; text-decoration-color: #008000\">Success:</span> <span style=\"color: #008080; text-decoration-color: #008080; font-weight: bold\">3.</span>27s, <span style=\"color: #008080; text-decoration-color: #008080; font-weight: bold\">2</span> tools, <span style=\"color: #008080; text-decoration-color: #008080; font-weight: bold\">439</span> chars\n",
       "</pre>\n"
      ],
      "text/plain": [
       "✅ \u001b[32mSuccess:\u001b[0m \u001b[1;36m3.\u001b[0m27s, \u001b[1;36m2\u001b[0m tools, \u001b[1;36m439\u001b[0m chars\n"
      ]
     },
     "metadata": {},
     "output_type": "display_data"
    },
    {
     "data": {
      "text/html": [
       "<pre style=\"white-space:pre;overflow-x:auto;line-height:normal;font-family:Menlo,'DejaVu Sans Mono',consolas,'Courier New',monospace\">\n",
       "🧪 <span style=\"color: #008080; text-decoration-color: #008080\">Test </span><span style=\"color: #008080; text-decoration-color: #008080; font-weight: bold\">5</span><span style=\"color: #008080; text-decoration-color: #008080\">/</span><span style=\"color: #008080; text-decoration-color: #008080; font-weight: bold\">5</span><span style=\"color: #008080; text-decoration-color: #008080\">: Conversational</span>\n",
       "</pre>\n"
      ],
      "text/plain": [
       "\n",
       "🧪 \u001b[36mTest \u001b[0m\u001b[1;36m5\u001b[0m\u001b[36m/\u001b[0m\u001b[1;36m5\u001b[0m\u001b[36m: Conversational\u001b[0m\n"
      ]
     },
     "metadata": {},
     "output_type": "display_data"
    },
    {
     "data": {
      "text/html": [
       "<pre style=\"white-space:pre;overflow-x:auto;line-height:normal;font-family:Menlo,'DejaVu Sans Mono',consolas,'Courier New',monospace\">Query: Tell me about the benefits of using TensorZero for LLM appli<span style=\"color: #808000; text-decoration-color: #808000\">...</span>\n",
       "</pre>\n"
      ],
      "text/plain": [
       "Query: Tell me about the benefits of using TensorZero for LLM appli\u001b[33m...\u001b[0m\n"
      ]
     },
     "metadata": {},
     "output_type": "display_data"
    },
    {
     "data": {
      "text/html": [
       "<pre style=\"white-space:pre;overflow-x:auto;line-height:normal;font-family:Menlo,'DejaVu Sans Mono',consolas,'Courier New',monospace\">✅ <span style=\"color: #008000; text-decoration-color: #008000\">Success:</span> <span style=\"color: #008080; text-decoration-color: #008080; font-weight: bold\">5.</span>74s, <span style=\"color: #008080; text-decoration-color: #008080; font-weight: bold\">0</span> tools, <span style=\"color: #008080; text-decoration-color: #008080; font-weight: bold\">1769</span> chars\n",
       "</pre>\n"
      ],
      "text/plain": [
       "✅ \u001b[32mSuccess:\u001b[0m \u001b[1;36m5.\u001b[0m74s, \u001b[1;36m0\u001b[0m tools, \u001b[1;36m1769\u001b[0m chars\n"
      ]
     },
     "metadata": {},
     "output_type": "display_data"
    },
    {
     "data": {
      "text/html": [
       "<pre style=\"white-space:pre;overflow-x:auto;line-height:normal;font-family:Menlo,'DejaVu Sans Mono',consolas,'Courier New',monospace\">\n",
       "📊 <span style=\"font-weight: bold\">Benchmark Results Summary</span>\n",
       "</pre>\n"
      ],
      "text/plain": [
       "\n",
       "📊 \u001b[1mBenchmark Results Summary\u001b[0m\n"
      ]
     },
     "metadata": {},
     "output_type": "display_data"
    },
    {
     "data": {
      "text/html": [
       "<pre style=\"white-space:pre;overflow-x:auto;line-height:normal;font-family:Menlo,'DejaVu Sans Mono',consolas,'Courier New',monospace\">========================================\n",
       "</pre>\n"
      ],
      "text/plain": [
       "========================================\n"
      ]
     },
     "metadata": {},
     "output_type": "display_data"
    },
    {
     "name": "stdout",
     "output_type": "stream",
     "text": [
      "               success     duration_seconds     tool_calls response_length\n",
      "                 count sum             mean std       mean            mean\n",
      "category                                                                  \n",
      "Analysis             1   1             2.26 NaN        1.0           436.0\n",
      "Conversational       1   1             5.74 NaN        0.0          1769.0\n",
      "Math                 1   1             1.87 NaN        1.0            95.0\n",
      "Multi-step           1   1             3.27 NaN        2.0           439.0\n",
      "Time                 1   1             2.04 NaN        1.0           121.0\n"
     ]
    },
    {
     "data": {
      "text/html": [
       "<pre style=\"white-space:pre;overflow-x:auto;line-height:normal;font-family:Menlo,'DejaVu Sans Mono',consolas,'Courier New',monospace\">\n",
       "📈 <span style=\"font-weight: bold\">Overall Performance:</span>\n",
       "</pre>\n"
      ],
      "text/plain": [
       "\n",
       "📈 \u001b[1mOverall Performance:\u001b[0m\n"
      ]
     },
     "metadata": {},
     "output_type": "display_data"
    },
    {
     "data": {
      "text/html": [
       "<pre style=\"white-space:pre;overflow-x:auto;line-height:normal;font-family:Menlo,'DejaVu Sans Mono',consolas,'Courier New',monospace\">   • Success Rate: <span style=\"color: #008080; text-decoration-color: #008080; font-weight: bold\">5</span>/<span style=\"color: #008080; text-decoration-color: #008080; font-weight: bold\">5</span> <span style=\"font-weight: bold\">(</span><span style=\"color: #008080; text-decoration-color: #008080; font-weight: bold\">100.0</span>%<span style=\"font-weight: bold\">)</span>\n",
       "</pre>\n"
      ],
      "text/plain": [
       "   • Success Rate: \u001b[1;36m5\u001b[0m/\u001b[1;36m5\u001b[0m \u001b[1m(\u001b[0m\u001b[1;36m100.0\u001b[0m%\u001b[1m)\u001b[0m\n"
      ]
     },
     "metadata": {},
     "output_type": "display_data"
    },
    {
     "data": {
      "text/html": [
       "<pre style=\"white-space:pre;overflow-x:auto;line-height:normal;font-family:Menlo,'DejaVu Sans Mono',consolas,'Courier New',monospace\">   • Average Duration: <span style=\"color: #008080; text-decoration-color: #008080; font-weight: bold\">3.04</span> seconds\n",
       "</pre>\n"
      ],
      "text/plain": [
       "   • Average Duration: \u001b[1;36m3.04\u001b[0m seconds\n"
      ]
     },
     "metadata": {},
     "output_type": "display_data"
    },
    {
     "data": {
      "text/html": [
       "<pre style=\"white-space:pre;overflow-x:auto;line-height:normal;font-family:Menlo,'DejaVu Sans Mono',consolas,'Courier New',monospace\">   • Average Tool Calls: <span style=\"color: #008080; text-decoration-color: #008080; font-weight: bold\">1.0</span>\n",
       "</pre>\n"
      ],
      "text/plain": [
       "   • Average Tool Calls: \u001b[1;36m1.0\u001b[0m\n"
      ]
     },
     "metadata": {},
     "output_type": "display_data"
    }
   ],
   "source": [
    "import time\n",
    "import pandas as pd\n",
    "from typing import List, Dict, Any\n",
    "\n",
    "def benchmark_agent(test_cases: List[Dict[str, Any]]) -> pd.DataFrame:\n",
    "    \"\"\"Simple benchmark of our TensorZero agent.\"\"\"\n",
    "    results = []\n",
    "    \n",
    "    console.print(f\"🏃 [bold]Running Agent Benchmark[/bold] ({len(test_cases)} test cases)\")\n",
    "    console.print(\"=\" * 50)\n",
    "    \n",
    "    for i, test_case in enumerate(test_cases, 1):\n",
    "        query = test_case[\"query\"]\n",
    "        category = test_case[\"category\"]\n",
    "        expected_tools = test_case.get(\"expected_tools\", [])\n",
    "        \n",
    "        console.print(f\"\\n🧪 [cyan]Test {i}/{len(test_cases)}: {category}[/cyan]\")\n",
    "        console.print(f\"Query: {query[:60]}...\")\n",
    "        \n",
    "        start_time = time.time()\n",
    "        \n",
    "        try:\n",
    "            # Run the agent\n",
    "            messages = [{\"role\": \"user\", \"content\": query}]\n",
    "            result = agent.invoke({\"messages\": messages})\n",
    "            \n",
    "            end_time = time.time()\n",
    "            duration = round(end_time - start_time, 2)\n",
    "            \n",
    "            # Count tool calls in the response\n",
    "            tool_count = 0\n",
    "            response_length = 0\n",
    "            \n",
    "            if result and \"messages\" in result:\n",
    "                for message in result[\"messages\"]:\n",
    "                    if hasattr(message, 'tool_calls') and message.tool_calls:\n",
    "                        tool_count += len(message.tool_calls)\n",
    "                    if hasattr(message, 'content') and message.content:\n",
    "                        response_length += len(str(message.content))\n",
    "            \n",
    "            results.append({\n",
    "                \"test_case\": i,\n",
    "                \"category\": category,\n",
    "                \"query\": query[:50] + \"...\" if len(query) > 50 else query,\n",
    "                \"success\": True,\n",
    "                \"duration_seconds\": duration,\n",
    "                \"tool_calls\": tool_count,\n",
    "                \"response_length\": response_length\n",
    "            })\n",
    "            \n",
    "            console.print(f\"✅ [green]Success:[/green] {duration}s, {tool_count} tools, {response_length} chars\")\n",
    "            \n",
    "        except Exception as e:\n",
    "            end_time = time.time()\n",
    "            duration = round(end_time - start_time, 2)\n",
    "            \n",
    "            results.append({\n",
    "                \"test_case\": i,\n",
    "                \"category\": category,\n",
    "                \"query\": query[:50] + \"...\" if len(query) > 50 else query,\n",
    "                \"success\": False,\n",
    "                \"duration_seconds\": duration,\n",
    "                \"tool_calls\": 0,\n",
    "                \"response_length\": 0,\n",
    "                \"error\": str(e)[:50]\n",
    "            })\n",
    "            \n",
    "            console.print(f\"❌ [red]Failed:[/red] {duration}s, Error: {str(e)[:50]}...\")\n",
    "    \n",
    "    return pd.DataFrame(results)\n",
    "\n",
    "# Define our test cases\n",
    "test_cases = [\n",
    "    {\n",
    "        \"category\": \"Math\",\n",
    "        \"query\": \"What is the square root of 256?\",\n",
    "        \"expected_tools\": [\"python_calculator\"]\n",
    "    },\n",
    "    {\n",
    "        \"category\": \"Time\",\n",
    "        \"query\": \"What time is it in PST?\",\n",
    "        \"expected_tools\": [\"current_time\"]\n",
    "    },\n",
    "    {\n",
    "        \"category\": \"Analysis\",\n",
    "        \"query\": \"Analyze this text: 'The weather is absolutely wonderful today!'\",\n",
    "        \"expected_tools\": [\"text_analyzer\"]\n",
    "    },\n",
    "    {\n",
    "        \"category\": \"Multi-step\",\n",
    "        \"query\": \"Calculate 15 * 23, then analyze the sentiment of 'great result'\",\n",
    "        \"expected_tools\": [\"python_calculator\", \"text_analyzer\"]\n",
    "    },\n",
    "    {\n",
    "        \"category\": \"Conversational\",\n",
    "        \"query\": \"Tell me about the benefits of using TensorZero for LLM applications\",\n",
    "        \"expected_tools\": []  # No tools expected for this\n",
    "    }\n",
    "]\n",
    "\n",
    "# Run the benchmark\n",
    "benchmark_results = benchmark_agent(test_cases)\n",
    "\n",
    "# Display results summary\n",
    "console.print(\"\\n📊 [bold]Benchmark Results Summary[/bold]\")\n",
    "console.print(\"=\" * 40)\n",
    "\n",
    "# Calculate summary statistics\n",
    "if not benchmark_results.empty:\n",
    "    summary = benchmark_results.groupby('category').agg({\n",
    "        'success': ['count', 'sum'],\n",
    "        'duration_seconds': ['mean', 'std'],\n",
    "        'tool_calls': 'mean',\n",
    "        'response_length': 'mean'\n",
    "    }).round(2)\n",
    "    \n",
    "    print(summary)\n",
    "    \n",
    "    # Overall statistics\n",
    "    total_tests = len(benchmark_results)\n",
    "    successful_tests = benchmark_results['success'].sum()\n",
    "    avg_duration = benchmark_results['duration_seconds'].mean()\n",
    "    avg_tools = benchmark_results['tool_calls'].mean()\n",
    "    \n",
    "    console.print(f\"\\n📈 [bold]Overall Performance:[/bold]\")\n",
    "    console.print(f\"   • Success Rate: {successful_tests}/{total_tests} ({100*successful_tests/total_tests:.1f}%)\")\n",
    "    console.print(f\"   • Average Duration: {avg_duration:.2f} seconds\")\n",
    "    console.print(f\"   • Average Tool Calls: {avg_tools:.1f}\")\n",
    "    \n",
    "else:\n",
    "    console.print(\"[red]No benchmark results to display[/red]\")"
   ]
  },
  {
   "cell_type": "markdown",
   "metadata": {},
   "source": [
    "## 6. Key Insights and Best Practices\n",
    "\n",
    "Summary of what we learned about building agents with TensorZero."
   ]
  },
  {
   "cell_type": "markdown",
   "metadata": {},
   "source": [
    "console.print(Panel(\"\"\"\n",
    "## 🎯 TensorZero Agent Integration - Key Learnings\n",
    "\n",
    "### ✅ What Works Great:\n",
    "• **OpenAI-Compatible Endpoint**: Use `/openai/v1` - no custom wrappers needed!\n",
    "• **LangChain Integration**: `init_chat_model()` works perfectly with TensorZero\n",
    "• **LangGraph Agents**: `create_react_agent()` works out-of-the-box\n",
    "• **Tool Calling**: Both Python tools and TensorZero-configured tools work together\n",
    "• **Automatic Observability**: All interactions tracked without extra code\n",
    "\n",
    "### 🛠️ Architecture Patterns:\n",
    "• **Model Setup**: `init_chat_model(\"function/variant\", base_url=\"http://localhost:3000/openai/v1\")`\n",
    "• **Tool Definition**: Use `@tool` decorator for Python tools + TensorZero config for others\n",
    "• **Agent Creation**: Standard LangGraph patterns work unchanged\n",
    "• **Observability**: Leverage TensorZero's built-in tracking and UI\n",
    "\n",
    "### ⚡ Performance Benefits:\n",
    "• **Multi-Provider**: Easy switching between OpenAI, Anthropic, xAI, etc.\n",
    "• **Cost Optimization**: Automatic routing and cost tracking\n",
    "• **Experimentation**: A/B testing different models/prompts\n",
    "• **Production Ready**: <1ms latency overhead, enterprise observability\n",
    "\n",
    "### 🔧 Best Practices:\n",
    "1. **Use TensorZero's OpenAI endpoint** - simplest integration path\n",
    "2. **Configure tools in tensorzero.toml** for TensorZero-managed tools\n",
    "3. **Define Python tools locally** for custom logic\n",
    "4. **Leverage built-in observability** instead of custom logging\n",
    "5. **Use variants** for easy model switching and A/B testing\n",
    "\n",
    "### 🚀 Production Considerations:\n",
    "• **Error Handling**: Robust fallback mechanisms for tool failures\n",
    "• **Rate Limiting**: Manage API costs through TensorZero configuration\n",
    "• **Security**: Validate tool inputs and sanitize outputs\n",
    "• **Monitoring**: Set up alerts using TensorZero's observability features\n",
    "• **Scaling**: Use TensorZero's load balancing and caching\n",
    "\n",
    "---\n",
    "\n",
    "**🌐 Next Steps**: \n",
    "• Explore TensorZero UI at http://localhost:4000\n",
    "• Try different model variants in tensorzero.toml\n",
    "• Set up feedback collection and optimization\n",
    "• Build multi-agent systems using the same patterns\n",
    "\"\"\", title=\"📚 Complete Guide to TensorZero Agents\", border_style=\"green\"))"
   ]
  }
 ],
 "metadata": {
  "kernelspec": {
   "display_name": ".venv",
   "language": "python",
   "name": "python3"
  },
  "language_info": {
   "codemirror_mode": {
    "name": "ipython",
    "version": 3
   },
   "file_extension": ".py",
   "mimetype": "text/x-python",
   "name": "python",
   "nbconvert_exporter": "python",
   "pygments_lexer": "ipython3",
   "version": "3.11.6"
  }
 },
 "nbformat": 4,
 "nbformat_minor": 4
}
